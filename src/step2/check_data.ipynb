{
 "cells": [
  {
   "cell_type": "code",
   "execution_count": 1,
   "metadata": {},
   "outputs": [],
   "source": [
    "import pandas as pd"
   ]
  },
  {
   "cell_type": "markdown",
   "metadata": {},
   "source": [
    "# 基本情報の確認\n",
    "https://www.kaggle.com/c/titanic/data からtrain.csvをダウンロード"
   ]
  },
  {
   "cell_type": "code",
   "execution_count": 2,
   "metadata": {},
   "outputs": [
    {
     "name": "stdout",
     "output_type": "stream",
     "text": [
      "<class 'pandas.core.frame.DataFrame'>\n",
      "RangeIndex: 891 entries, 0 to 890\n",
      "Data columns (total 12 columns):\n",
      "PassengerId    891 non-null int64\n",
      "Survived       891 non-null int64\n",
      "Pclass         891 non-null int64\n",
      "Name           891 non-null object\n",
      "Sex            891 non-null object\n",
      "Age            714 non-null float64\n",
      "SibSp          891 non-null int64\n",
      "Parch          891 non-null int64\n",
      "Ticket         891 non-null object\n",
      "Fare           891 non-null float64\n",
      "Cabin          204 non-null object\n",
      "Embarked       889 non-null object\n",
      "dtypes: float64(2), int64(5), object(5)\n",
      "memory usage: 83.7+ KB\n"
     ]
    }
   ],
   "source": [
    "train = pd.read_csv('../../data/train.csv')\n",
    "train.info()"
   ]
  },
  {
   "cell_type": "markdown",
   "metadata": {},
   "source": [
    "・文字列データだと扱いにくいので数値データに変換"
   ]
  },
  {
   "cell_type": "code",
   "execution_count": null,
   "metadata": {},
   "outputs": [],
   "source": [
    "for label, value in [('male', 0), ('female', 1)]:\n",
    "    train.loc[train.loc[:, 'Sex'] == label, 'Sex'] = value\n",
    "train.loc[:, 'Sex'] = train.loc[:, 'Sex'].astype(int)\n",
    "\n",
    "for label, value in [('C', 1), ('Q', 2), ('S', 3)]:\n",
    "    train.loc[train.loc[:, 'Embarked'] == label, 'Embarked'] = value\n",
    "train.loc[:, 'Embarked'] = train.loc[:, 'Embarked'].fillna(0)\n",
    "train.loc[:, 'Embarked'] = train.loc[:, 'Embarked'].astype(int)\n",
    "\n",
    "train.info()"
   ]
  },
  {
   "cell_type": "markdown",
   "metadata": {},
   "source": [
    "# 属性の選択\n",
    "横軸:各属性のクラス 縦軸:生存率のグラフで可視化"
   ]
  },
  {
   "cell_type": "code",
   "execution_count": null,
   "metadata": {},
   "outputs": [],
   "source": [
    "import matplotlib.pyplot as plt"
   ]
  },
  {
   "cell_type": "code",
   "execution_count": null,
   "metadata": {},
   "outputs": [],
   "source": [
    "survival_num = (train.loc[:, 'Survived'] == 1).sum()\n",
    "print('Survival num: {:}'.format(survival_num))\n",
    "survival_rate = survival_num / len(train)\n",
    "print('Survival rate: {:.1f}%'.format(survival_rate * 100))"
   ]
  },
  {
   "cell_type": "code",
   "execution_count": null,
   "metadata": {},
   "outputs": [],
   "source": [
    "def visualize(attr, classes, survival_rates):\n",
    "    plt.title(attr)\n",
    "    plt.ylim(0, 1)\n",
    "    plt.scatter(classes, survival_rates)\n",
    "    plt.hlines(y=[survival_rate], xmin=min(*classes), xmax=max(*classes), linestyles='dashed')\n",
    "    plt.show()"
   ]
  },
  {
   "cell_type": "code",
   "execution_count": null,
   "metadata": {},
   "outputs": [],
   "source": [
    "for attr in ['Sex', 'Pclass', 'SibSp', 'Parch', 'Embarked']:\n",
    "    values = train.loc[:, attr]\n",
    "    classes = list(range(int(values.min()), int(values.max()) + 1))\n",
    "    survival_rates = []\n",
    "    lens = []\n",
    "    for class_ in classes:\n",
    "        surv = train.loc[train.loc[:, attr] == class_, 'Survived'] == 1\n",
    "        survival_rates.append(surv.sum() / len(surv)) # あるクラスの生存者数 / あるクラスの人数\n",
    "        lens.append('{}:{}'.format(class_, len(surv)))\n",
    "    print(attr + ' ' + ' '.join(lens))\n",
    "    visualize(attr, classes, survival_rates)"
   ]
  },
  {
   "cell_type": "code",
   "execution_count": null,
   "metadata": {},
   "outputs": [],
   "source": [
    "attr = 'Age'\n",
    "step = 10\n",
    "classes = list(range(0, int(train.loc[:, attr].max()) + step, step))\n",
    "survival_rates = []\n",
    "lens = []\n",
    "for class_ in classes:\n",
    "    surv = train.loc[(train.loc[:, attr] >= class_) & (train.loc[:, attr] < class_ + step), 'Survived'] == 1\n",
    "    survival_rates.append(surv.sum() / len(surv))\n",
    "    lens.append('{}:{}'.format(class_, len(surv)))\n",
    "print(attr + ' ' + ' '.join(lens))\n",
    "visualize(attr, classes, survival_rates)"
   ]
  },
  {
   "cell_type": "code",
   "execution_count": null,
   "metadata": {},
   "outputs": [],
   "source": [
    "attr = 'Fare'\n",
    "step = 10\n",
    "classes = list(range(0, 90 + step, step))\n",
    "survival_rates = []\n",
    "lens = []\n",
    "for class_ in classes:\n",
    "    surv = train.loc[(train.loc[:, attr] >= class_) & (train.loc[:, attr] < class_ + step), 'Survived'] == 1\n",
    "    survival_rates.append(surv.sum() / len(surv))\n",
    "    lens.append('{}:{}'.format(class_, len(surv)))\n",
    "print(attr + ' ' + ' '.join(lens))\n",
    "visualize(attr, classes, survival_rates)"
   ]
  },
  {
   "cell_type": "code",
   "execution_count": null,
   "metadata": {},
   "outputs": [],
   "source": [
    "attr = 'Fare'\n",
    "step = 100\n",
    "classes = list(range(100, int(train.loc[:, attr].max()) + step, step))\n",
    "survival_rates = []\n",
    "lens = []\n",
    "for class_ in classes:\n",
    "    surv = train.loc[(train.loc[:, attr] >= class_) & (train.loc[:, attr] < class_ + step), 'Survived'] == 1\n",
    "    survival_rates.append(surv.sum() / len(surv))\n",
    "    lens.append('{}:{}'.format(class_, len(surv)))\n",
    "print(attr + ' ' + ' '.join(lens))\n",
    "visualize(attr, classes, survival_rates)"
   ]
  },
  {
   "cell_type": "code",
   "execution_count": null,
   "metadata": {},
   "outputs": [],
   "source": [
    "attr = 'Name'\n",
    "values = train.loc[:, attr]\n",
    "alphabets = 'abcdefghijklmnopqrstuvwxyz'\n",
    "classes = []\n",
    "survival_rates = []\n",
    "lens = []\n",
    "names = train.loc[:, attr]\n",
    "for class_, char in enumerate(alphabets):\n",
    "    idx = [char in name.lower() for name in names]\n",
    "    surv = train.loc[idx, 'Survived'] == 1\n",
    "    survival_rates.append(surv.sum() / len(surv)) # あるクラスの生存者数 / あるクラスの人数\n",
    "    classes.append(class_)\n",
    "    lens.append('{}({}):{}'.format(class_, char, len(surv)))\n",
    "print(attr + ' ' + ' '.join(lens))\n",
    "visualize(attr, classes, survival_rates)"
   ]
  },
  {
   "cell_type": "markdown",
   "metadata": {},
   "source": [
    "# 欠損値の補完"
   ]
  },
  {
   "cell_type": "code",
   "execution_count": null,
   "metadata": {},
   "outputs": [],
   "source": [
    "# 欠損埋め\n",
    "fill_train = train.loc[:, ['Pclass', 'Sex', 'Age', 'SibSp', 'Parch', 'Fare', 'Embarked']]\n",
    "med = fill_train['Age'].median()\n",
    "fill_train.loc[:, 'Age'] = fill_train['Age'].fillna(med)\n",
    "fill_train.info()"
   ]
  },
  {
   "cell_type": "markdown",
   "metadata": {},
   "source": [
    "# 標準化"
   ]
  },
  {
   "cell_type": "code",
   "execution_count": null,
   "metadata": {},
   "outputs": [],
   "source": [
    "fill_train.head()"
   ]
  },
  {
   "cell_type": "code",
   "execution_count": null,
   "metadata": {},
   "outputs": [],
   "source": [
    "standardized_train = (fill_train - fill_train.mean()) / fill_train.std()\n",
    "standardized_train.head()"
   ]
  }
 ],
 "metadata": {
  "kernelspec": {
   "display_name": "Python 3",
   "language": "python",
   "name": "python3"
  },
  "language_info": {
   "codemirror_mode": {
    "name": "ipython",
    "version": 3
   },
   "file_extension": ".py",
   "mimetype": "text/x-python",
   "name": "python",
   "nbconvert_exporter": "python",
   "pygments_lexer": "ipython3",
   "version": "3.7.0"
  }
 },
 "nbformat": 4,
 "nbformat_minor": 4
}
